{
 "cells": [
  {
   "cell_type": "code",
   "id": "initial_id",
   "metadata": {
    "collapsed": true,
    "ExecuteTime": {
     "end_time": "2025-06-09T10:58:19.535452Z",
     "start_time": "2025-06-09T10:58:18.878418Z"
    }
   },
   "source": [
    "import numpy as np\n",
    "import scipy\n",
    "from scipy.sparse import csr_matrix\n",
    "from gudhi import CubicalComplex\n",
    "from gudhi.sklearn.cubical_persistence import CubicalPersistence\n",
    "# from medmnist import ChestMNIST\n",
    "from PIL import Image\n",
    "import time\n",
    "import matplotlib.pyplot as plt\n",
    "\n",
    "from src.sparse_uplap import *\n",
    "from src.utils import *"
   ],
   "outputs": [],
   "execution_count": 1
  },
  {
   "metadata": {
    "ExecuteTime": {
     "end_time": "2025-06-09T10:58:19.612998Z",
     "start_time": "2025-06-09T10:58:19.591719Z"
    }
   },
   "cell_type": "code",
   "source": [
    "# Load chest X-ray image\n",
    "image = Image.open(\"images/chest.png\")\n",
    "# image.show()"
   ],
   "id": "6792d60a1aa8eec5",
   "outputs": [],
   "execution_count": 2
  },
  {
   "metadata": {
    "ExecuteTime": {
     "end_time": "2025-06-09T10:58:19.647633Z",
     "start_time": "2025-06-09T10:58:19.645397Z"
    }
   },
   "cell_type": "code",
   "source": [
    "# Convert image to numpy array\n",
    "image_array = np.array(image)"
   ],
   "id": "839cc612a00a7437",
   "outputs": [],
   "execution_count": 3
  },
  {
   "metadata": {
    "ExecuteTime": {
     "end_time": "2025-06-09T10:58:19.695455Z",
     "start_time": "2025-06-09T10:58:19.692053Z"
    }
   },
   "cell_type": "code",
   "source": [
    "# Check the shape of the image: (224, 224)\n",
    "np.array(image_array).shape"
   ],
   "id": "77fb34204c3b65d8",
   "outputs": [
    {
     "data": {
      "text/plain": [
       "(224, 224)"
      ]
     },
     "execution_count": 4,
     "metadata": {},
     "output_type": "execute_result"
    }
   ],
   "execution_count": 4
  },
  {
   "metadata": {
    "ExecuteTime": {
     "end_time": "2025-06-09T10:58:19.765706Z",
     "start_time": "2025-06-09T10:58:19.762738Z"
    }
   },
   "cell_type": "code",
   "source": [
    "# Apply max pooling to the image\n",
    "pool_size = (2, 2)\n",
    "\n",
    "image_array_2 = max_pool2d(image_array, pool_size, pool_size)\n",
    "image_array_3 = max_pool2d(image_array_2, pool_size, pool_size)\n",
    "image_array_4 = max_pool2d(image_array_3, pool_size, pool_size)\n",
    "image_array_5 = max_pool2d(image_array_4, pool_size, pool_size)\n",
    "image_array_6 = max_pool2d(image_array_5, pool_size, pool_size)\n",
    "image_array_7 = max_pool2d(image_array_6, pool_size, pool_size)\n",
    "image_array_8 = max_pool2d(image_array_7, pool_size, pool_size)"
   ],
   "id": "be2689bb8589cc42",
   "outputs": [],
   "execution_count": 5
  },
  {
   "metadata": {
    "ExecuteTime": {
     "end_time": "2025-06-09T10:58:19.829331Z",
     "start_time": "2025-06-09T10:58:19.815168Z"
    }
   },
   "cell_type": "code",
   "source": [
    "# Create CubicalComplex from the image array\n",
    "X = CubicalComplex(top_dimensional_cells=image_array).all_cells()"
   ],
   "id": "8d502fb2b9d5c7c5",
   "outputs": [],
   "execution_count": 6
  },
  {
   "metadata": {
    "ExecuteTime": {
     "end_time": "2025-06-09T10:58:19.915452Z",
     "start_time": "2025-06-09T10:58:19.871228Z"
    }
   },
   "cell_type": "code",
   "source": [
    "# Create boundary operator, the filtration masks, and the number of filters\n",
    "bdry_opr, filt_idx_0_2, filt_idx_1_2, num_filt = get_bdry_opr(X, filt_0=20, filt_1=50, filt_2=150)"
   ],
   "id": "65c9bba8da5ac670",
   "outputs": [],
   "execution_count": 7
  },
  {
   "metadata": {
    "ExecuteTime": {
     "end_time": "2025-06-09T10:58:19.927634Z",
     "start_time": "2025-06-09T10:58:19.925243Z"
    }
   },
   "cell_type": "code",
   "source": [
    "# Check the shape of the boundary operator\n",
    "bdry_opr.shape"
   ],
   "id": "291fb5fbf6877d2e",
   "outputs": [
    {
     "data": {
      "text/plain": [
       "(62972, 30836)"
      ]
     },
     "execution_count": 8,
     "metadata": {},
     "output_type": "execute_result"
    }
   ],
   "execution_count": 8
  },
  {
   "metadata": {
    "ExecuteTime": {
     "end_time": "2025-06-09T10:59:01.478716Z",
     "start_time": "2025-06-09T10:58:19.982713Z"
    }
   },
   "cell_type": "code",
   "source": [
    "# Initialize the UpPersistentLaplacianSparse class\n",
    "uplapclass = UpPersistentLaplacianSparse(bdry_opr, filt_idx_0_2=filt_idx_1_2,\n",
    "                                         filt_idx_1_2=np.ones(bdry_opr.shape[0], dtype=bool))\n",
    "time_list_1 = []\n",
    "st_1 = time.time()\n",
    "\n",
    "uplapclass.find_D()\n",
    "uplapclass.find_root()\n",
    "uplapclass.uf.find_loops()\n",
    "uplapclass.uf.find_loops_roots()\n",
    "uplapclass.find_rel_bdry_opr()\n",
    "uplapclass.find_diag()\n",
    "\n",
    "for i in range(num_filt):\n",
    "    uplapclass.add_edge_temp()\n",
    "    if i % 100 == 0:\n",
    "        ed_1 = time.time()\n",
    "        time_list_1.append(ed_1 - st_1)\n",
    "\n",
    "et_1 = time.time()\n",
    "time_list_1.append(et_1 - st_1)"
   ],
   "id": "68660f515d631d57",
   "outputs": [],
   "execution_count": 9
  },
  {
   "metadata": {
    "ExecuteTime": {
     "end_time": "2025-06-09T10:59:53.045641Z",
     "start_time": "2025-06-09T10:59:01.489867Z"
    }
   },
   "cell_type": "code",
   "source": [
    "uplapclass = UpPersistentLaplacianSparse(bdry_opr, filt_idx_0_2=filt_idx_1_2,\n",
    "                                         filt_idx_1_2=np.ones(bdry_opr.shape[0], dtype=bool))\n",
    "time_list_2 = []\n",
    "st_1 = time.time()\n",
    "\n",
    "uplapclass.find_D()\n",
    "uplapclass.find_root()\n",
    "uplapclass.uf.find_loops()\n",
    "uplapclass.uf.find_loops_roots()\n",
    "uplapclass.find_rel_bdry_opr()\n",
    "uplapclass.find_diag()\n",
    "\n",
    "d = np.sqrt(uplapclass.diag_array)  # Replace with your diagonal entries\n",
    "rel_bdry_opr_scaled = uplapclass.rel_bdry_opr.data * d[uplapclass.rel_bdry_opr.indices]\n",
    "temp_D = sp.csr_matrix((rel_bdry_opr_scaled, uplapclass.rel_bdry_opr.indices, uplapclass.rel_bdry_opr.indptr), shape=uplapclass.rel_bdry_opr.shape)\n",
    "\n",
    "for i in range(num_filt):\n",
    "    uplapclass.add_edge_temp()\n",
    "\n",
    "    d = np.sqrt(uplapclass.diag_array)  # Replace with your diagonal entries\n",
    "    rel_bdry_opr_scaled = uplapclass.rel_bdry_opr.data * d[uplapclass.rel_bdry_opr.indices]\n",
    "    temp_D = sp.csr_matrix((rel_bdry_opr_scaled, uplapclass.rel_bdry_opr.indices, uplapclass.rel_bdry_opr.indptr), shape=uplapclass.rel_bdry_opr.shape)\n",
    "    if i % 100 == 0:\n",
    "        ed_1 = time.time()\n",
    "        time_list_2.append(ed_1 - st_1)\n",
    "\n",
    "    # temp_D = uplapclass.rel_bdry_opr @ np.sqrt(uplapclass.diag)\n",
    "    # uplapclass.find_up_persistent_Laplacian()\n",
    "\n",
    "et_1 = time.time()\n",
    "et_1 - st_1\n",
    "time_list_2.append(et_1 - st_1)"
   ],
   "id": "378e62ebbeffdb5f",
   "outputs": [],
   "execution_count": 10
  },
  {
   "metadata": {
    "ExecuteTime": {
     "end_time": "2025-06-09T11:02:14.628749Z",
     "start_time": "2025-06-09T10:59:53.057781Z"
    }
   },
   "cell_type": "code",
   "source": [
    "uplapclass = UpPersistentLaplacianSparse(bdry_opr, filt_idx_0_2=filt_idx_1_2,\n",
    "                                         filt_idx_1_2=np.ones(bdry_opr.shape[0], dtype=bool))\n",
    "time_list_3 = []\n",
    "st_1 = time.time()\n",
    "\n",
    "uplapclass.find_D()\n",
    "uplapclass.find_root()\n",
    "uplapclass.uf.find_loops()\n",
    "uplapclass.uf.find_loops_roots()\n",
    "uplapclass.find_rel_bdry_opr()\n",
    "uplapclass.find_diag()\n",
    "uplapclass.find_up_persistent_Laplacian()\n",
    "\n",
    "for i in range(num_filt):\n",
    "    uplapclass.add_edge_temp()\n",
    "    uplapclass.find_up_persistent_Laplacian()\n",
    "    if i % 100 == 0:\n",
    "        ed_1 = time.time()\n",
    "        time_list_3.append(ed_1 - st_1)\n",
    "\n",
    "et_1 = time.time()\n",
    "time_list_3.append(et_1 - st_1)"
   ],
   "id": "35f83a5ac93ea42c",
   "outputs": [],
   "execution_count": 11
  },
  {
   "metadata": {
    "ExecuteTime": {
     "end_time": "2025-06-09T11:05:57.742419Z",
     "start_time": "2025-06-09T11:02:14.643734Z"
    }
   },
   "cell_type": "code",
   "source": [
    "time_list_4 = []\n",
    "st_2 = time.time()\n",
    "\n",
    "sub_filt_idx = np.where(uplapclass.filt_idx_1_2 != uplapclass.filt_idx_0_2)[0]\n",
    "indices_it = iter(sub_filt_idx)\n",
    "M = bdry_opr @ np.transpose(bdry_opr)\n",
    "\n",
    "for i in range(num_filt):\n",
    "    edge = next(indices_it)\n",
    "    M = compute_up_persistent(M, edge - i)\n",
    "    if i % 100 == 0:\n",
    "        ed_2 = time.time()\n",
    "        time_list_4.append(ed_2 - st_2)\n",
    "et_2 = time.time()\n",
    "time_list_4.append(et_2 - st_2)"
   ],
   "id": "95f75d2997f1a493",
   "outputs": [],
   "execution_count": 12
  },
  {
   "metadata": {
    "ExecuteTime": {
     "end_time": "2025-06-09T11:05:57.759340Z",
     "start_time": "2025-06-09T11:05:57.756939Z"
    }
   },
   "cell_type": "code",
   "source": [
    "steps = [_ for _ in range(0, num_filt, 100)]\n",
    "steps.append(num_filt)"
   ],
   "id": "3c5b42a1edb16250",
   "outputs": [],
   "execution_count": 13
  },
  {
   "metadata": {
    "ExecuteTime": {
     "end_time": "2025-06-09T11:06:17.677693Z",
     "start_time": "2025-06-09T11:06:17.539949Z"
    }
   },
   "cell_type": "code",
   "source": [
    "plt.rcParams['text.usetex'] = True\n",
    "\n",
    "plt.plot(steps, time_list_1, label='Computing pairs of $(B_{1}^{\\mathcal{L}^1, \\mathcal{K}_n^1}, W_{1}^{\\mathcal{L}^1, \\mathcal{K}_n^1})$')\n",
    "plt.plot(steps, time_list_2, label='Computing $B_{1}^{\\mathcal{L}^1, \\mathcal{K}^1_n}(W_{1}^{\\mathcal{L}^1, \\mathcal{K}^1_n})^{1/2}$')\n",
    "plt.plot(steps, time_list_3, label='Computing $\\Delta_{1, up}^{\\mathcal{K}^1_n, \\mathcal{L}^1}$ using DSU algorithm')\n",
    "plt.plot(steps, time_list_4, label='Computing $\\Delta_{1, up}^{\\mathcal{K}^1_n, \\mathcal{L}^1}$ using Schur complement')\n",
    "\n",
    "plt.xlabel('$n$')\n",
    "plt.ylabel('Time (s)')\n",
    "plt.legend()\n",
    "# plt.show()\n",
    "plt.savefig('plots/computing_time_1_ubuntu.png')"
   ],
   "id": "c4f38514e57d259c",
   "outputs": [
    {
     "name": "stderr",
     "output_type": "stream",
     "text": [
      "<>:3: SyntaxWarning: invalid escape sequence '\\m'\n",
      "<>:4: SyntaxWarning: invalid escape sequence '\\m'\n",
      "<>:5: SyntaxWarning: invalid escape sequence '\\D'\n",
      "<>:6: SyntaxWarning: invalid escape sequence '\\D'\n",
      "<>:3: SyntaxWarning: invalid escape sequence '\\m'\n",
      "<>:4: SyntaxWarning: invalid escape sequence '\\m'\n",
      "<>:5: SyntaxWarning: invalid escape sequence '\\D'\n",
      "<>:6: SyntaxWarning: invalid escape sequence '\\D'\n",
      "/tmp/ipykernel_16926/18407467.py:3: SyntaxWarning: invalid escape sequence '\\m'\n",
      "  plt.plot(steps, time_list_1, label='Computing pairs of $(B_{1}^{\\mathcal{L}^1, \\mathcal{K}_n^1}, W_{1}^{\\mathcal{L}^1, \\mathcal{K}_n^1})$')\n",
      "/tmp/ipykernel_16926/18407467.py:4: SyntaxWarning: invalid escape sequence '\\m'\n",
      "  plt.plot(steps, time_list_2, label='Computing $B_{1}^{\\mathcal{L}^1, \\mathcal{K}^1_n}(W_{1}^{\\mathcal{L}^1, \\mathcal{K}^1_n})^{1/2}$')\n",
      "/tmp/ipykernel_16926/18407467.py:5: SyntaxWarning: invalid escape sequence '\\D'\n",
      "  plt.plot(steps, time_list_3, label='Computing $\\Delta_{1, up}^{\\mathcal{K}^1_n, \\mathcal{L}^1}$ using DSU algorithm')\n",
      "/tmp/ipykernel_16926/18407467.py:6: SyntaxWarning: invalid escape sequence '\\D'\n",
      "  plt.plot(steps, time_list_4, label='Computing $\\Delta_{1, up}^{\\mathcal{K}^1_n, \\mathcal{L}^1}$ using Schur complement')\n"
     ]
    },
    {
     "data": {
      "text/plain": [
       "<Figure size 640x480 with 1 Axes>"
      ],
      "image/png": "[encoded data removed]"
     },
     "metadata": {},
     "output_type": "display_data"
    }
   ],
   "execution_count": 15
  },
  {
   "metadata": {
    "ExecuteTime": {
     "end_time": "2025-06-09T11:05:58.145821Z",
     "start_time": "2025-06-09T11:05:58.144014Z"
    }
   },
   "cell_type": "code",
   "source": "",
   "id": "e00fe6040d89cacb",
   "outputs": [],
   "execution_count": null
  },
  {
   "metadata": {
    "ExecuteTime": {
     "end_time": "2025-06-09T11:05:58.194407Z",
     "start_time": "2025-06-09T11:05:58.193084Z"
    }
   },
   "cell_type": "code",
   "source": "",
   "id": "26d35bdb68a4a020",
   "outputs": [],
   "execution_count": null
  }
 ],
 "metadata": {
  "kernelspec": {
   "display_name": "Python 3",
   "language": "python",
   "name": "python3"
  },
  "language_info": {
   "codemirror_mode": {
    "name": "ipython",
    "version": 2
   },
   "file_extension": ".py",
   "mimetype": "text/x-python",
   "name": "python",
   "nbconvert_exporter": "python",
   "pygments_lexer": "ipython2",
   "version": "2.7.6"
  }
 },
 "nbformat": 4,
 "nbformat_minor": 5
}
